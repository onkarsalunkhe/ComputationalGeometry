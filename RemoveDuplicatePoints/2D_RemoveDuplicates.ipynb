{
 "cells": [
  {
   "cell_type": "markdown",
   "metadata": {
    "id": "IgR2zNE8d3oo"
   },
   "source": [
    "## Development of Algorithm for Removing Duplicate Points within a specified tolerence\n",
    "\n",
    "I started with the simple logic of Calculating the distance of each point to all other remaining point and removing the point if the distance is less than the tolerence. This is Brutforce mathod which will have time complexity of O(n^2). I needed to decrease it. \n",
    "\n",
    "Before jumping to 3D I started developing the alogorithm for 2D and then extended the same for 3D.\n",
    "\n"
   ]
  },
  {
   "cell_type": "code",
   "execution_count": 1,
   "metadata": {
    "colab": {
     "base_uri": "https://localhost:8080/",
     "height": 33
    },
    "id": "C_nRZ6UL6rFn",
    "outputId": "27f0dd9e-1c30-4195-9984-7599192a3aae"
   },
   "outputs": [
    {
     "data": {
      "text/plain": [
       "<function TextIOWrapper.close()>"
      ]
     },
     "execution_count": 1,
     "metadata": {},
     "output_type": "execute_result"
    }
   ],
   "source": [
    "# File creation\n",
    "# Last updated by Onkar Salunkhe on 25 Oct 2020\n",
    "\n",
    "import random\n",
    "\n",
    "# Function for creating a random Point with Float values\n",
    "def random_floats(min, max, size):\n",
    "   # min = Minimum value of co-ordinate\n",
    "   # max = Maximum value of co-ordinate\n",
    "   # size = 2 for 2D point and 3 for 3D point\n",
    "   return [random.uniform(min, max) for _ in range(size)]\n",
    "\n",
    "# Create a file\n",
    "Data= open(\"Random_Points.txt\",\"w+\")\n",
    "\n",
    "K = 100 # Number of Input Points\n",
    "\n",
    "# Writing the Points in the file \n",
    "with open('Random_Points.txt', 'w+') as filehandle:\n",
    "    for i in range(K):\n",
    "        Point = random_floats(0, 1, 2)\n",
    "        #filehandle.writelines(\"%s\" % x for x in Point)\n",
    "        filehandle.writelines(\" \".join(str(x) for x in Point))\n",
    "        filehandle.writelines(\"\\n\")\n",
    "\n",
    "# Close file      \n",
    "Data.close  \n"
   ]
  },
  {
   "cell_type": "code",
   "execution_count": 2,
   "metadata": {
    "colab": {
     "base_uri": "https://localhost:8080/",
     "height": 33
    },
    "id": "oaWnKbYsSs76",
    "outputId": "19382daf-f9f5-472a-b1b0-70ae4a596eb4"
   },
   "outputs": [
    {
     "name": "stdout",
     "output_type": "stream",
     "text": [
      "100\n"
     ]
    }
   ],
   "source": [
    "# Opening an existing file with point cloud\n",
    "Data=open(\"Random_Points.txt\",\"r\")\n",
    "# Reading each point\n",
    "Point=Data.readlines()\n",
    "# Writing each point in the list\n",
    "lst2D = []\n",
    "for i in Point:\n",
    "    #print(i)\n",
    "    m1=i.split()\n",
    "    arr=[]\n",
    "    for j in range(2):\n",
    "        arr.append(float(m1[j]))\n",
    "    lst2D.append(arr)\n",
    "# Total number of Points in the file\n",
    "print(len(lst2D))"
   ]
  },
  {
   "cell_type": "code",
   "execution_count": 3,
   "metadata": {
    "id": "0SADQCOP7IZl"
   },
   "outputs": [],
   "source": [
    "# Function implementations which can also be included in the header file\n",
    "\n",
    "# Function to calculate distance between two points in 2D\n",
    "def distance2D(Point1,Point2):\n",
    "  # Point1 = List of co-ordinates of fisrt point in 2D\n",
    "  # Point2 = List of co-ordinates of second point in 2D\n",
    "  # return the distance between the points using distance formula\n",
    "  return math.sqrt((Point1[0]-Point2[0])**2+(Point1[1]-Point2[1])**2)\n",
    "\n",
    "# Function to calculate distance between two points in 3D\n",
    "def distance3D(Point1,Point2):\n",
    "  # Point1 = List of co-ordinates of fisrt point in 3D\n",
    "  # Point2 = List of co-ordinates of second point in 3D\n",
    "  # return the distance between the points using distance formula\n",
    "  return math.sqrt((Point1[0]-Point2[0])**2+(Point1[1]-Point2[1])**2+(Point1[2]-Point2[2])**2)\n",
    "\n",
    "# Function to calculate distance along x-axis\n",
    "def distance_x(Point1,Point2):\n",
    "  # Point1 = List of co-ordinates of fisrt point in 2D or 3D\n",
    "  # Point2 = List of co-ordinates of second point in 2D or 3D\n",
    "  # return the value of absolute difference in x-co-ordinates\n",
    "  return abs(Point1[0]-Point2[0])\n",
    "\n",
    "# Function to calculate distance along y-axis\n",
    "def distance_y(Point1,Point2):\n",
    "  # Point1 = List of co-ordinates of fisrt point in 2D or 3D\n",
    "  # Point2 = List of co-ordinates of second point in 2D or 3D\n",
    "  # return the value of absolute difference in y-co-ordinates\n",
    "  return abs(Point1[1]-Point2[1])\n",
    "\n",
    "# Function to calculate distance along z-axis\n",
    "def distance_z(Point1,Point2):\n",
    "  # Point1 = List of co-ordinates of fisrt point in 2D or 3D\n",
    "  # Point2 = List of co-ordinates of second point in 2D or 3D\n",
    "  # return the value of absolute difference in z-co-ordinates\n",
    "  return abs(Point1[2]-Point2[2])"
   ]
  },
  {
   "cell_type": "markdown",
   "metadata": {
    "id": "z0ubqIYUfkW6"
   },
   "source": [
    "##Algoritham:\n",
    "It will start with sorting the list of points according to x-co-ordinates. It will select the staring point and count the number of points which are within the tolerence in x-direction which is called x-strip. And it will calcuate the the distance in y-direction for only those selected points. This will reduce the computations compareed to Brutforce method as we are not calculating the distance of each point to all points.\n",
    "Similarly it will reduce the computations in the y-direction.\n"
   ]
  },
  {
   "cell_type": "code",
   "execution_count": 5,
   "metadata": {
    "colab": {
     "base_uri": "https://localhost:8080/",
     "height": 595
    },
    "id": "t3NoyHt17QCJ",
    "outputId": "a00f2053-8f79-4354-a2c0-da3fad8f207a"
   },
   "outputs": [
    {
     "name": "stdout",
     "output_type": "stream",
     "text": [
      "100\n",
      "44\n",
      "0.0\n"
     ]
    },
    {
     "data": {
      "image/png": "[encoded data removed]",
      "text/plain": [
       "<Figure size 432x288 with 1 Axes>"
      ]
     },
     "metadata": {
      "needs_background": "light"
     },
     "output_type": "display_data"
    },
    {
     "data": {
      "image/png": "[encoded data removed]",
      "text/plain": [
       "<Figure size 432x288 with 1 Axes>"
      ]
     },
     "metadata": {
      "needs_background": "light"
     },
     "output_type": "display_data"
    }
   ],
   "source": [
    "# Algorithm for removing the points within tolerence\n",
    "# 2D\n",
    "\n",
    "import matplotlib.pyplot as plt\n",
    "import time\n",
    "import math\n",
    "\n",
    "# Visualization of Points in the list\n",
    "plt.figure(1)\n",
    "plt.scatter(*zip(*lst2D))\n",
    "plt.title('Input')\n",
    "\n",
    "# Start the timer\n",
    "start=time.time()\n",
    "\n",
    "# Sort the list with x-co-ordinate and assign it to the updated list\n",
    "updated_list_2D = sorted(lst2D)\n",
    "print(len(updated_list_2D))\n",
    "\n",
    "# Tolerence under which the points to be removed\n",
    "tol=0.1 \n",
    "\n",
    "# Algorithm \n",
    "i=0 # Start with the first element in the updated list as the base point\n",
    "j=0 \n",
    "while i<=len(updated_list_2D)-1:\n",
    "  Count=0 # Count initialization\n",
    "\n",
    "  while Count<len(updated_list_2D)-i and distance_x(updated_list_2D[i],updated_list_2D[i+Count])<tol:\n",
    "    Count+=1  # Count the number of points which lies within the tolerence in only x-direction\n",
    "  j=i # Start with the base point i.e. First element of updated list\n",
    "  # Traverse in the list only upto the point where the x-co-ordinate is within the tolerence i.e. x-strip\n",
    "  while Count>0 and j<len(updated_list_2D)-1: \n",
    "    # Check whether the y-co-ordinate is within tolerence or not\n",
    "    if abs(updated_list_2D[i][1]-updated_list_2D[j+1][1])<tol:\n",
    "        # Check the actual distance between the points\n",
    "        dist=distance2D(updated_list_2D[i],updated_list_2D[j+1])\n",
    "        # Remove the points if under tolerence else check for the next point\n",
    "        if dist<tol:\n",
    "            # Remove element formt the list\n",
    "            updated_list_2D.pop(j+1)\n",
    "            j-=1\n",
    "    j+=1\n",
    "    # Update the count\n",
    "    Count-=1\n",
    "  # Move to next point as base point in the list\n",
    "  i+=1\n",
    "\n",
    "# Stop the timer\n",
    "end=time.time()\n",
    "\n",
    "# Check the total numeber of points in the updated list\n",
    "print(len(updated_list_2D))\n",
    "\n",
    "# Print the total time needed for the algorithm\n",
    "print(end-start)\n",
    "\n",
    "# Visualization of the new point cloud\n",
    "plt.figure(2)\n",
    "plt.scatter(*zip(*updated_list_2D))\n",
    "plt.title('Output')\n",
    "plt.show()\n"
   ]
  },
  {
   "cell_type": "code",
   "execution_count": 6,
   "metadata": {
    "colab": {
     "base_uri": "https://localhost:8080/",
     "height": 595
    },
    "id": "Q4qjLWII7Y1C",
    "outputId": "bf5929c1-5222-4720-d8a8-44472bf405b3"
   },
   "outputs": [
    {
     "data": {
      "image/png": "[encoded data removed]",
      "text/plain": [
       "<Figure size 432x288 with 1 Axes>"
      ]
     },
     "metadata": {
      "needs_background": "light"
     },
     "output_type": "display_data"
    },
    {
     "name": "stdout",
     "output_type": "stream",
     "text": [
      "100\n",
      "44\n",
      "0.11462521553039551\n"
     ]
    },
    {
     "data": {
      "image/png": "[encoded data removed]",
      "text/plain": [
       "<Figure size 432x288 with 1 Axes>"
      ]
     },
     "metadata": {
      "needs_background": "light"
     },
     "output_type": "display_data"
    }
   ],
   "source": [
    "# Validating and comparing with the straigh-forward method  \n",
    "# Brute Force Method with O(n^2)\n",
    "# 2D\n",
    "\n",
    "import time\n",
    "import math\n",
    "import matplotlib.pyplot as plt\n",
    "\n",
    "# Start the timer\n",
    "start=time.time()\n",
    "\n",
    "# Visualization of the point cloud in the given file\n",
    "plt.scatter(*zip(*lst2D))\n",
    "plt.title('Input')\n",
    "plt.show()\n",
    "\n",
    "# Sort the list of points with x-co-ordinate\n",
    "updated_list_ref =sorted(lst2D)\n",
    "# Number of points in the Point cloud\n",
    "print(len(updated_list_ref))\n",
    "\n",
    "# Tolerence under which the points to be removed\n",
    "tol=0.1\n",
    "\n",
    "# Algorithm \n",
    "i=0 # Start with the first element in the updated list as the base point\n",
    "\n",
    "# Traverse in the list\n",
    "while i< len(updated_list_ref)-1:\n",
    "  j=i+1 \n",
    "  # Go until the last point of the updated list\n",
    "  while j <len(updated_list_ref):\n",
    "    # Check for the distance in only x and only y-directions within the tolerence\n",
    "    if (distance_x(updated_list_ref[i],updated_list_ref[j]))<tol and (distance_y(updated_list_ref[i],updated_list_ref[j]))<tol :\n",
    "      # Calculate the actual distance between the points\n",
    "      dist=distance2D(updated_list_ref[i],updated_list_ref[j])\n",
    "      # Remove the point if the distance is less than tolerence\n",
    "      if dist<tol:\n",
    "        updated_list_ref.pop(j)\n",
    "        j-=1\n",
    "    # Move to next point\n",
    "    j+=1\n",
    "  # Move to next point as base point\n",
    "  i+=1\n",
    "\n",
    "# Stop the timer\n",
    "end=time.time()\n",
    "# Number of points in the new point cloud\n",
    "print(len(updated_list_ref))\n",
    "# Print the total time for the algorithm\n",
    "print(end-start)\n",
    "\n",
    "# Visualization of new point cloud\n",
    "plt.scatter(*zip(*updated_list_ref))\n",
    "plt.title('Output')\n",
    "plt.show()"
   ]
  },
  {
   "cell_type": "markdown",
   "metadata": {
    "id": "jTULhv7ogsJg"
   },
   "source": [
    "We get the same results for both Brutforce method and Algorithm but with the reduced time."
   ]
  },
  {
   "cell_type": "code",
   "execution_count": 7,
   "metadata": {
    "colab": {
     "base_uri": "https://localhost:8080/",
     "height": 33
    },
    "id": "_Fa8DK5j7cXB",
    "outputId": "6160d08d-6738-4a57-f79d-9640bcae910a"
   },
   "outputs": [
    {
     "data": {
      "text/plain": [
       "<function TextIOWrapper.close()>"
      ]
     },
     "execution_count": 7,
     "metadata": {},
     "output_type": "execute_result"
    }
   ],
   "source": [
    "# Create a new file to store the updated points\n",
    "Data= open(\"Updated_Points.txt\",\"w+\")\n",
    "\n",
    "# Writing the new Points in the file \n",
    "with open('Updated_Points.txt', 'w+') as filehandle:\n",
    "    for i in range(0,len(updated_list_2D)):\n",
    "        filehandle.writelines(\" \".join(str(x) for x in updated_list_2D[i]))\n",
    "        filehandle.writelines(\"\\n\")\n",
    "\n",
    "# Close file      \n",
    "Data.close  "
   ]
  },
  {
   "cell_type": "code",
   "execution_count": null,
   "metadata": {
    "id": "v178EDuBezZm"
   },
   "outputs": [],
   "source": []
  }
 ],
 "metadata": {
  "colab": {
   "collapsed_sections": [],
   "name": "2D_RemoveDuplicates.py",
   "provenance": []
  },
  "kernelspec": {
   "display_name": "Python 3",
   "language": "python",
   "name": "python3"
  },
  "language_info": {
   "codemirror_mode": {
    "name": "ipython",
    "version": 3
   },
   "file_extension": ".py",
   "mimetype": "text/x-python",
   "name": "python",
   "nbconvert_exporter": "python",
   "pygments_lexer": "ipython3",
   "version": "3.6.9"
  }
 },
 "nbformat": 4,
 "nbformat_minor": 1
}
